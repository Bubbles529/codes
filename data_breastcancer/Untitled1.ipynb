{
 "cells": [
  {
   "cell_type": "code",
   "execution_count": 1,
   "metadata": {
    "collapsed": false
   },
   "outputs": [
    {
     "ename": "NameError",
     "evalue": "name 'plt' is not defined",
     "output_type": "error",
     "traceback": [
      "\u001b[1;31m---------------------------------------------------------------------------\u001b[0m",
      "\u001b[1;31mNameError\u001b[0m                                 Traceback (most recent call last)",
      "\u001b[1;32m<ipython-input-1-d8e673d95a25>\u001b[0m in \u001b[0;36m<module>\u001b[1;34m()\u001b[0m\n\u001b[0;32m     34\u001b[0m \u001b[0mpca\u001b[0m \u001b[1;33m=\u001b[0m \u001b[0mPCA\u001b[0m\u001b[1;33m(\u001b[0m\u001b[0mn_components\u001b[0m\u001b[1;33m=\u001b[0m\u001b[1;36m2\u001b[0m\u001b[1;33m)\u001b[0m\u001b[1;33m\u001b[0m\u001b[0m\n\u001b[0;32m     35\u001b[0m \u001b[0mdata_pca\u001b[0m \u001b[1;33m=\u001b[0m \u001b[0mpca\u001b[0m\u001b[1;33m.\u001b[0m\u001b[0mfit_transform\u001b[0m\u001b[1;33m(\u001b[0m\u001b[0mdata\u001b[0m\u001b[1;33m)\u001b[0m\u001b[1;33m\u001b[0m\u001b[0m\n\u001b[1;32m---> 36\u001b[1;33m \u001b[0mplt\u001b[0m\u001b[1;33m.\u001b[0m\u001b[0mscatter\u001b[0m\u001b[1;33m(\u001b[0m\u001b[0mdata_pca\u001b[0m\u001b[1;33m[\u001b[0m\u001b[1;33m:\u001b[0m\u001b[1;33m,\u001b[0m \u001b[1;36m0\u001b[0m\u001b[1;33m]\u001b[0m\u001b[1;33m,\u001b[0m \u001b[0mdata_pca\u001b[0m\u001b[1;33m[\u001b[0m\u001b[1;33m:\u001b[0m\u001b[1;33m,\u001b[0m \u001b[1;36m1\u001b[0m\u001b[1;33m]\u001b[0m\u001b[1;33m,\u001b[0m \u001b[0mc\u001b[0m\u001b[1;33m=\u001b[0m\u001b[0mtarget\u001b[0m\u001b[1;33m,\u001b[0m \u001b[0medgecolor\u001b[0m\u001b[1;33m=\u001b[0m\u001b[1;34m'none'\u001b[0m\u001b[1;33m,\u001b[0m \u001b[0malpha\u001b[0m\u001b[1;33m=\u001b[0m\u001b[1;36m0.5\u001b[0m\u001b[1;33m,\u001b[0m \u001b[0mcmap\u001b[0m\u001b[1;33m=\u001b[0m\u001b[0mplt\u001b[0m\u001b[1;33m.\u001b[0m\u001b[0mcm\u001b[0m\u001b[1;33m.\u001b[0m\u001b[0mget_cmap\u001b[0m\u001b[1;33m(\u001b[0m\u001b[1;34m'rainbow'\u001b[0m\u001b[1;33m,\u001b[0m \u001b[1;36m2\u001b[0m\u001b[1;33m)\u001b[0m\u001b[1;33m)\u001b[0m\u001b[1;33m\u001b[0m\u001b[0m\n\u001b[0m\u001b[0;32m     37\u001b[0m \u001b[0mplt\u001b[0m\u001b[1;33m.\u001b[0m\u001b[0mcolorbar\u001b[0m\u001b[1;33m(\u001b[0m\u001b[1;33m)\u001b[0m\u001b[1;33m;\u001b[0m\u001b[1;33m\u001b[0m\u001b[0m\n\u001b[0;32m     38\u001b[0m \u001b[1;33m\u001b[0m\u001b[0m\n",
      "\u001b[1;31mNameError\u001b[0m: name 'plt' is not defined"
     ]
    }
   ],
   "source": [
    "import numpy as np\n",
    "import scipy as sp\n",
    "import seaborn as sb\n",
    "import pandas as pd\n",
    "\n",
    "#获取数据\n",
    "from sklearn import datasets\n",
    "cancers = datasets.load_breast_cancer()\n",
    "data_ = (list(i)+[cancers['target_names'][j]] for i,j in zip(cancers['data'],cancers['target']))\n",
    "cancers_pd = pd.DataFrame(data_, columns=list(cancers['feature_names'])+['cancer type'])\n",
    "\n",
    "#判断数据是否有NAN\n",
    "cancers_pd.isnull()\n",
    "#判断数据是否有0\n",
    "cancers_pd.min(axis=0)\n",
    "\n",
    "sb.distplot(cancers_pd['mean concavity'])\n",
    "sb.distplot(cancers_pd['mean concave points'])\n",
    "sb.distplot(cancers_pd['worst concavity'])\n",
    "sb.distplot(cancers_pd['worst concave points'])\n",
    "\n",
    "\n",
    "data, target, target_names = cancers['data'], cancers['target'], cancers['target_names']\n",
    "data.shape\n",
    "targetstr = np.array([target_names[i]] for i in target)\n",
    "\n",
    "import collections\n",
    "counter = collections.Counter(cancers_pd['cancer type'])\n",
    "counter.most_common(2)\n",
    "\n",
    "\n",
    "## PCA降维\n",
    "from sklearn.decomposition import PCA\n",
    "pca = PCA(n_components=2)\n",
    "data_pca = pca.fit_transform(data)\n",
    "plt.scatter(data_pca[:, 0], data_pca[:, 1], c=target, edgecolor='none', alpha=0.5, cmap=plt.cm.get_cmap('rainbow', 2))\n",
    "plt.colorbar();\n",
    "\n",
    "## PCA能量\n",
    "sb.set()\n",
    "pca_ = PCA().fit(data)\n",
    "plt.plot(np.cumsum(pca_.explained_variance_ratio_))\n",
    "plt.xlabel('number of components')\n",
    "plt.ylabel('cumulative explained variance');\n",
    "plt.xlim(0,5)\n",
    "\n",
    "## IsoMap降维\n",
    "from sklearn.manifold import Isomap\n",
    "iso = Isomap(n_components=2)\n",
    "data_projected = iso.fit_transform(data)\n",
    "plt.scatter(data_projected[:, 0], data_projected[:, 1], c=target,edgecolor='none', alpha=0.5, cmap=plt.cm.get_cmap('rainbow', 2));\n",
    "plt.colorbar(label='Cancer', ticks=range(2))\n",
    "plt.clim(-200, 0)\n",
    "\n",
    "### KNN\n",
    "from sklearn.neighbors import KNeighborsClassifier\n",
    "from sklearn.grid_search import GridSearchCV\n",
    "\n",
    "clf = KNeighborsClassifier()\n",
    "n_neighbors = [1,2,3,5,8,10,15,20,25,30,35,40]\n",
    "weights = ['uniform','distance']\n",
    "param_grid = [{'n_neighbors': n_neighbors, 'weights': weights}]\n",
    "grid_search = GridSearchCV(clf, param_grid=param_grid, cv=10)\n",
    "grid_search.fit(data, target)\n",
    "grid_search.grid_scores_\n",
    "grid_search.best_score_, grid_search.best_estimator_, grid_search.best_params_\n",
    "\n",
    " ### 逻辑回归\n",
    "from sklearn.grid_search import GridSearchCV\n",
    "from sklearn.linear_model import LogisticRegression\n",
    "clf = LogisticRegression(penalty='l2')\n",
    "C = [0.1, 0.5, 1, 5, 10]\n",
    "param_grid = [{'C': C}]\n",
    "grid_search = GridSearchCV(clf, param_grid=param_grid, cv=10)\n",
    "grid_search.fit(data, target)\n",
    "grid_search.grid_scores_\n",
    "grid_search.best_score_, grid_search.best_estimator_, grid_search.best_params_"
   ]
  },
  {
   "cell_type": "code",
   "execution_count": 2,
   "metadata": {
    "collapsed": false
   },
   "outputs": [
    {
     "data": {
      "text/plain": [
       "(0.95079086115992972,\n",
       " LogisticRegression(C=0.5, class_weight=None, dual=False, fit_intercept=True,\n",
       "           intercept_scaling=1, max_iter=100, multi_class='ovr', n_jobs=1,\n",
       "           penalty='l2', random_state=None, solver='liblinear', tol=0.0001,\n",
       "           verbose=0, warm_start=False),\n",
       " {'C': 0.5})"
      ]
     },
     "execution_count": 2,
     "metadata": {},
     "output_type": "execute_result"
    }
   ],
   "source": [
    "'''数据分析实践 breast cancer'''\n",
    "import numpy as np\n",
    "import scipy as sp\n",
    "import seaborn as sb\n",
    "import pandas as pd\n",
    "import matplotlib.pyplot as plt\n",
    "\n",
    "#获取数据\n",
    "from sklearn import datasets\n",
    "cancers = datasets.load_breast_cancer()\n",
    "data_ = (list(i)+[cancers['target_names'][j]] for i,j in zip(cancers['data'],cancers['target']))\n",
    "cancers_pd = pd.DataFrame(data_, columns=list(cancers['feature_names'])+['cancer type'])\n",
    "\n",
    "#判断数据是否有NAN\n",
    "cancers_pd.isnull()\n",
    "#判断数据是否有0\n",
    "cancers_pd.min(axis=0)\n",
    "\n",
    "sb.distplot(cancers_pd['mean concavity'])\n",
    "sb.distplot(cancers_pd['mean concave points'])\n",
    "sb.distplot(cancers_pd['worst concavity'])\n",
    "sb.distplot(cancers_pd['worst concave points'])\n",
    "\n",
    "\n",
    "data, target, target_names = cancers['data'], cancers['target'], cancers['target_names']\n",
    "data.shape\n",
    "targetstr = np.array([target_names[i]] for i in target)\n",
    "\n",
    "import collections\n",
    "counter = collections.Counter(cancers_pd['cancer type'])\n",
    "counter.most_common(2)\n",
    "\n",
    "\n",
    "## PCA降维\n",
    "from sklearn.decomposition import PCA\n",
    "pca = PCA(n_components=2)\n",
    "data_pca = pca.fit_transform(data)\n",
    "plt.scatter(data_pca[:, 0], data_pca[:, 1], c=target, edgecolor='none', alpha=0.5, cmap=plt.cm.get_cmap('rainbow', 2))\n",
    "plt.colorbar();\n",
    "\n",
    "## PCA能量\n",
    "sb.set()\n",
    "pca_ = PCA().fit(data)\n",
    "plt.plot(np.cumsum(pca_.explained_variance_ratio_))\n",
    "plt.xlabel('number of components')\n",
    "plt.ylabel('cumulative explained variance');\n",
    "plt.xlim(0,5)\n",
    "\n",
    "## IsoMap降维\n",
    "from sklearn.manifold import Isomap\n",
    "iso = Isomap(n_components=2)\n",
    "data_projected = iso.fit_transform(data)\n",
    "plt.scatter(data_projected[:, 0], data_projected[:, 1], c=target,edgecolor='none', alpha=0.5, cmap=plt.cm.get_cmap('rainbow', 2));\n",
    "plt.colorbar(label='Cancer', ticks=range(2))\n",
    "plt.clim(-200, 0)\n",
    "\n",
    "### KNN\n",
    "from sklearn.neighbors import KNeighborsClassifier\n",
    "from sklearn.grid_search import GridSearchCV\n",
    "\n",
    "clf = KNeighborsClassifier()\n",
    "n_neighbors = [1,2,3,5,8,10,15,20,25,30,35,40]\n",
    "weights = ['uniform','distance']\n",
    "param_grid = [{'n_neighbors': n_neighbors, 'weights': weights}]\n",
    "grid_search = GridSearchCV(clf, param_grid=param_grid, cv=10)\n",
    "grid_search.fit(data, target)\n",
    "grid_search.grid_scores_\n",
    "grid_search.best_score_, grid_search.best_estimator_, grid_search.best_params_\n",
    "\n",
    " ### 逻辑回归\n",
    "from sklearn.grid_search import GridSearchCV\n",
    "from sklearn.linear_model import LogisticRegression\n",
    "clf = LogisticRegression(penalty='l2')\n",
    "C = [0.1, 0.5, 1, 5, 10]\n",
    "param_grid = [{'C': C}]\n",
    "grid_search = GridSearchCV(clf, param_grid=param_grid, cv=10)\n",
    "grid_search.fit(data, target)\n",
    "grid_search.grid_scores_\n",
    "grid_search.best_score_, grid_search.best_estimator_, grid_search.best_params_"
   ]
  },
  {
   "cell_type": "code",
   "execution_count": 3,
   "metadata": {
    "collapsed": false
   },
   "outputs": [
    {
     "data": {
      "text/plain": [
       "[mean: 0.92091, std: 0.02803, params: {'max_depth': 10, 'min_samples_split': 2, 'criterion': 'gini', 'min_samples_leaf': 1},\n",
       " mean: 0.92091, std: 0.02606, params: {'max_depth': 10, 'min_samples_split': 3, 'criterion': 'gini', 'min_samples_leaf': 1},\n",
       " mean: 0.91388, std: 0.03669, params: {'max_depth': 10, 'min_samples_split': 5, 'criterion': 'gini', 'min_samples_leaf': 1},\n",
       " mean: 0.90158, std: 0.04084, params: {'max_depth': 10, 'min_samples_split': 8, 'criterion': 'gini', 'min_samples_leaf': 1},\n",
       " mean: 0.90861, std: 0.03922, params: {'max_depth': 10, 'min_samples_split': 10, 'criterion': 'gini', 'min_samples_leaf': 1},\n",
       " mean: 0.92443, std: 0.03316, params: {'max_depth': 10, 'min_samples_split': 2, 'criterion': 'gini', 'min_samples_leaf': 2},\n",
       " mean: 0.91916, std: 0.03008, params: {'max_depth': 10, 'min_samples_split': 3, 'criterion': 'gini', 'min_samples_leaf': 2},\n",
       " mean: 0.91213, std: 0.03187, params: {'max_depth': 10, 'min_samples_split': 5, 'criterion': 'gini', 'min_samples_leaf': 2},\n",
       " mean: 0.89982, std: 0.04004, params: {'max_depth': 10, 'min_samples_split': 8, 'criterion': 'gini', 'min_samples_leaf': 2},\n",
       " mean: 0.90158, std: 0.04239, params: {'max_depth': 10, 'min_samples_split': 10, 'criterion': 'gini', 'min_samples_leaf': 2},\n",
       " mean: 0.90861, std: 0.02371, params: {'max_depth': 10, 'min_samples_split': 2, 'criterion': 'gini', 'min_samples_leaf': 3},\n",
       " mean: 0.90158, std: 0.02682, params: {'max_depth': 10, 'min_samples_split': 3, 'criterion': 'gini', 'min_samples_leaf': 3},\n",
       " mean: 0.89982, std: 0.03371, params: {'max_depth': 10, 'min_samples_split': 5, 'criterion': 'gini', 'min_samples_leaf': 3},\n",
       " mean: 0.90158, std: 0.03347, params: {'max_depth': 10, 'min_samples_split': 8, 'criterion': 'gini', 'min_samples_leaf': 3},\n",
       " mean: 0.90334, std: 0.03359, params: {'max_depth': 10, 'min_samples_split': 10, 'criterion': 'gini', 'min_samples_leaf': 3},\n",
       " mean: 0.92091, std: 0.04091, params: {'max_depth': 10, 'min_samples_split': 2, 'criterion': 'gini', 'min_samples_leaf': 5},\n",
       " mean: 0.91564, std: 0.04208, params: {'max_depth': 10, 'min_samples_split': 3, 'criterion': 'gini', 'min_samples_leaf': 5},\n",
       " mean: 0.91740, std: 0.04513, params: {'max_depth': 10, 'min_samples_split': 5, 'criterion': 'gini', 'min_samples_leaf': 5},\n",
       " mean: 0.92970, std: 0.05258, params: {'max_depth': 10, 'min_samples_split': 8, 'criterion': 'gini', 'min_samples_leaf': 5},\n",
       " mean: 0.92443, std: 0.04769, params: {'max_depth': 10, 'min_samples_split': 10, 'criterion': 'gini', 'min_samples_leaf': 5},\n",
       " mean: 0.92619, std: 0.03298, params: {'max_depth': 10, 'min_samples_split': 2, 'criterion': 'gini', 'min_samples_leaf': 8},\n",
       " mean: 0.92619, std: 0.03385, params: {'max_depth': 10, 'min_samples_split': 3, 'criterion': 'gini', 'min_samples_leaf': 8},\n",
       " mean: 0.92794, std: 0.03882, params: {'max_depth': 10, 'min_samples_split': 5, 'criterion': 'gini', 'min_samples_leaf': 8},\n",
       " mean: 0.92619, std: 0.03997, params: {'max_depth': 10, 'min_samples_split': 8, 'criterion': 'gini', 'min_samples_leaf': 8},\n",
       " mean: 0.92267, std: 0.03342, params: {'max_depth': 10, 'min_samples_split': 10, 'criterion': 'gini', 'min_samples_leaf': 8},\n",
       " mean: 0.91388, std: 0.02911, params: {'max_depth': 15, 'min_samples_split': 2, 'criterion': 'gini', 'min_samples_leaf': 1},\n",
       " mean: 0.90685, std: 0.03807, params: {'max_depth': 15, 'min_samples_split': 3, 'criterion': 'gini', 'min_samples_leaf': 1},\n",
       " mean: 0.92443, std: 0.02480, params: {'max_depth': 15, 'min_samples_split': 5, 'criterion': 'gini', 'min_samples_leaf': 1},\n",
       " mean: 0.91037, std: 0.04269, params: {'max_depth': 15, 'min_samples_split': 8, 'criterion': 'gini', 'min_samples_leaf': 1},\n",
       " mean: 0.90510, std: 0.03777, params: {'max_depth': 15, 'min_samples_split': 10, 'criterion': 'gini', 'min_samples_leaf': 1},\n",
       " mean: 0.91740, std: 0.03950, params: {'max_depth': 15, 'min_samples_split': 2, 'criterion': 'gini', 'min_samples_leaf': 2},\n",
       " mean: 0.92443, std: 0.03397, params: {'max_depth': 15, 'min_samples_split': 3, 'criterion': 'gini', 'min_samples_leaf': 2},\n",
       " mean: 0.90510, std: 0.02935, params: {'max_depth': 15, 'min_samples_split': 5, 'criterion': 'gini', 'min_samples_leaf': 2},\n",
       " mean: 0.90158, std: 0.04009, params: {'max_depth': 15, 'min_samples_split': 8, 'criterion': 'gini', 'min_samples_leaf': 2},\n",
       " mean: 0.90158, std: 0.04172, params: {'max_depth': 15, 'min_samples_split': 10, 'criterion': 'gini', 'min_samples_leaf': 2},\n",
       " mean: 0.90510, std: 0.03369, params: {'max_depth': 15, 'min_samples_split': 2, 'criterion': 'gini', 'min_samples_leaf': 3},\n",
       " mean: 0.90158, std: 0.02879, params: {'max_depth': 15, 'min_samples_split': 3, 'criterion': 'gini', 'min_samples_leaf': 3},\n",
       " mean: 0.90510, std: 0.03290, params: {'max_depth': 15, 'min_samples_split': 5, 'criterion': 'gini', 'min_samples_leaf': 3},\n",
       " mean: 0.89631, std: 0.02879, params: {'max_depth': 15, 'min_samples_split': 8, 'criterion': 'gini', 'min_samples_leaf': 3},\n",
       " mean: 0.89455, std: 0.03149, params: {'max_depth': 15, 'min_samples_split': 10, 'criterion': 'gini', 'min_samples_leaf': 3},\n",
       " mean: 0.93146, std: 0.04983, params: {'max_depth': 15, 'min_samples_split': 2, 'criterion': 'gini', 'min_samples_leaf': 5},\n",
       " mean: 0.93146, std: 0.04983, params: {'max_depth': 15, 'min_samples_split': 3, 'criterion': 'gini', 'min_samples_leaf': 5},\n",
       " mean: 0.92267, std: 0.04851, params: {'max_depth': 15, 'min_samples_split': 5, 'criterion': 'gini', 'min_samples_leaf': 5},\n",
       " mean: 0.92619, std: 0.05133, params: {'max_depth': 15, 'min_samples_split': 8, 'criterion': 'gini', 'min_samples_leaf': 5},\n",
       " mean: 0.92794, std: 0.04865, params: {'max_depth': 15, 'min_samples_split': 10, 'criterion': 'gini', 'min_samples_leaf': 5},\n",
       " mean: 0.92619, std: 0.03997, params: {'max_depth': 15, 'min_samples_split': 2, 'criterion': 'gini', 'min_samples_leaf': 8},\n",
       " mean: 0.92267, std: 0.03444, params: {'max_depth': 15, 'min_samples_split': 3, 'criterion': 'gini', 'min_samples_leaf': 8},\n",
       " mean: 0.92619, std: 0.03385, params: {'max_depth': 15, 'min_samples_split': 5, 'criterion': 'gini', 'min_samples_leaf': 8},\n",
       " mean: 0.92619, std: 0.03298, params: {'max_depth': 15, 'min_samples_split': 8, 'criterion': 'gini', 'min_samples_leaf': 8},\n",
       " mean: 0.92619, std: 0.03910, params: {'max_depth': 15, 'min_samples_split': 10, 'criterion': 'gini', 'min_samples_leaf': 8},\n",
       " mean: 0.92267, std: 0.03730, params: {'max_depth': 20, 'min_samples_split': 2, 'criterion': 'gini', 'min_samples_leaf': 1},\n",
       " mean: 0.91388, std: 0.03168, params: {'max_depth': 20, 'min_samples_split': 3, 'criterion': 'gini', 'min_samples_leaf': 1},\n",
       " mean: 0.92443, std: 0.03410, params: {'max_depth': 20, 'min_samples_split': 5, 'criterion': 'gini', 'min_samples_leaf': 1},\n",
       " mean: 0.91037, std: 0.03814, params: {'max_depth': 20, 'min_samples_split': 8, 'criterion': 'gini', 'min_samples_leaf': 1},\n",
       " mean: 0.90861, std: 0.03061, params: {'max_depth': 20, 'min_samples_split': 10, 'criterion': 'gini', 'min_samples_leaf': 1},\n",
       " mean: 0.91213, std: 0.03341, params: {'max_depth': 20, 'min_samples_split': 2, 'criterion': 'gini', 'min_samples_leaf': 2},\n",
       " mean: 0.91564, std: 0.03767, params: {'max_depth': 20, 'min_samples_split': 3, 'criterion': 'gini', 'min_samples_leaf': 2},\n",
       " mean: 0.90861, std: 0.02650, params: {'max_depth': 20, 'min_samples_split': 5, 'criterion': 'gini', 'min_samples_leaf': 2},\n",
       " mean: 0.90861, std: 0.04141, params: {'max_depth': 20, 'min_samples_split': 8, 'criterion': 'gini', 'min_samples_leaf': 2},\n",
       " mean: 0.90510, std: 0.04095, params: {'max_depth': 20, 'min_samples_split': 10, 'criterion': 'gini', 'min_samples_leaf': 2},\n",
       " mean: 0.89982, std: 0.03375, params: {'max_depth': 20, 'min_samples_split': 2, 'criterion': 'gini', 'min_samples_leaf': 3},\n",
       " mean: 0.90510, std: 0.02292, params: {'max_depth': 20, 'min_samples_split': 3, 'criterion': 'gini', 'min_samples_leaf': 3},\n",
       " mean: 0.89807, std: 0.03089, params: {'max_depth': 20, 'min_samples_split': 5, 'criterion': 'gini', 'min_samples_leaf': 3},\n",
       " mean: 0.89982, std: 0.03938, params: {'max_depth': 20, 'min_samples_split': 8, 'criterion': 'gini', 'min_samples_leaf': 3},\n",
       " mean: 0.89807, std: 0.03671, params: {'max_depth': 20, 'min_samples_split': 10, 'criterion': 'gini', 'min_samples_leaf': 3},\n",
       " mean: 0.92267, std: 0.04590, params: {'max_depth': 20, 'min_samples_split': 2, 'criterion': 'gini', 'min_samples_leaf': 5},\n",
       " mean: 0.91740, std: 0.04513, params: {'max_depth': 20, 'min_samples_split': 3, 'criterion': 'gini', 'min_samples_leaf': 5},\n",
       " mean: 0.91916, std: 0.04852, params: {'max_depth': 20, 'min_samples_split': 5, 'criterion': 'gini', 'min_samples_leaf': 5},\n",
       " mean: 0.91740, std: 0.03924, params: {'max_depth': 20, 'min_samples_split': 8, 'criterion': 'gini', 'min_samples_leaf': 5},\n",
       " mean: 0.91916, std: 0.04587, params: {'max_depth': 20, 'min_samples_split': 10, 'criterion': 'gini', 'min_samples_leaf': 5},\n",
       " mean: 0.92619, std: 0.03298, params: {'max_depth': 20, 'min_samples_split': 2, 'criterion': 'gini', 'min_samples_leaf': 8},\n",
       " mean: 0.92619, std: 0.03385, params: {'max_depth': 20, 'min_samples_split': 3, 'criterion': 'gini', 'min_samples_leaf': 8},\n",
       " mean: 0.92619, std: 0.03910, params: {'max_depth': 20, 'min_samples_split': 5, 'criterion': 'gini', 'min_samples_leaf': 8},\n",
       " mean: 0.92443, std: 0.03321, params: {'max_depth': 20, 'min_samples_split': 8, 'criterion': 'gini', 'min_samples_leaf': 8},\n",
       " mean: 0.92443, std: 0.03329, params: {'max_depth': 20, 'min_samples_split': 10, 'criterion': 'gini', 'min_samples_leaf': 8},\n",
       " mean: 0.91564, std: 0.02108, params: {'max_depth': 30, 'min_samples_split': 2, 'criterion': 'gini', 'min_samples_leaf': 1},\n",
       " mean: 0.92091, std: 0.03303, params: {'max_depth': 30, 'min_samples_split': 3, 'criterion': 'gini', 'min_samples_leaf': 1},\n",
       " mean: 0.90685, std: 0.04110, params: {'max_depth': 30, 'min_samples_split': 5, 'criterion': 'gini', 'min_samples_leaf': 1},\n",
       " mean: 0.91388, std: 0.03643, params: {'max_depth': 30, 'min_samples_split': 8, 'criterion': 'gini', 'min_samples_leaf': 1},\n",
       " mean: 0.90334, std: 0.03881, params: {'max_depth': 30, 'min_samples_split': 10, 'criterion': 'gini', 'min_samples_leaf': 1},\n",
       " mean: 0.91388, std: 0.03550, params: {'max_depth': 30, 'min_samples_split': 2, 'criterion': 'gini', 'min_samples_leaf': 2},\n",
       " mean: 0.91916, std: 0.03764, params: {'max_depth': 30, 'min_samples_split': 3, 'criterion': 'gini', 'min_samples_leaf': 2},\n",
       " mean: 0.91213, std: 0.03187, params: {'max_depth': 30, 'min_samples_split': 5, 'criterion': 'gini', 'min_samples_leaf': 2},\n",
       " mean: 0.90334, std: 0.03867, params: {'max_depth': 30, 'min_samples_split': 8, 'criterion': 'gini', 'min_samples_leaf': 2},\n",
       " mean: 0.90334, std: 0.03699, params: {'max_depth': 30, 'min_samples_split': 10, 'criterion': 'gini', 'min_samples_leaf': 2},\n",
       " mean: 0.90685, std: 0.02952, params: {'max_depth': 30, 'min_samples_split': 2, 'criterion': 'gini', 'min_samples_leaf': 3},\n",
       " mean: 0.90158, std: 0.03626, params: {'max_depth': 30, 'min_samples_split': 3, 'criterion': 'gini', 'min_samples_leaf': 3},\n",
       " mean: 0.90334, std: 0.02678, params: {'max_depth': 30, 'min_samples_split': 5, 'criterion': 'gini', 'min_samples_leaf': 3},\n",
       " mean: 0.89455, std: 0.03338, params: {'max_depth': 30, 'min_samples_split': 8, 'criterion': 'gini', 'min_samples_leaf': 3},\n",
       " mean: 0.89982, std: 0.03151, params: {'max_depth': 30, 'min_samples_split': 10, 'criterion': 'gini', 'min_samples_leaf': 3},\n",
       " mean: 0.92091, std: 0.04590, params: {'max_depth': 30, 'min_samples_split': 2, 'criterion': 'gini', 'min_samples_leaf': 5},\n",
       " mean: 0.91564, std: 0.04208, params: {'max_depth': 30, 'min_samples_split': 3, 'criterion': 'gini', 'min_samples_leaf': 5},\n",
       " mean: 0.92267, std: 0.04851, params: {'max_depth': 30, 'min_samples_split': 5, 'criterion': 'gini', 'min_samples_leaf': 5},\n",
       " mean: 0.92443, std: 0.05149, params: {'max_depth': 30, 'min_samples_split': 8, 'criterion': 'gini', 'min_samples_leaf': 5},\n",
       " mean: 0.92091, std: 0.04721, params: {'max_depth': 30, 'min_samples_split': 10, 'criterion': 'gini', 'min_samples_leaf': 5},\n",
       " mean: 0.92794, std: 0.03875, params: {'max_depth': 30, 'min_samples_split': 2, 'criterion': 'gini', 'min_samples_leaf': 8},\n",
       " mean: 0.92619, std: 0.03997, params: {'max_depth': 30, 'min_samples_split': 3, 'criterion': 'gini', 'min_samples_leaf': 8},\n",
       " mean: 0.92267, std: 0.03342, params: {'max_depth': 30, 'min_samples_split': 5, 'criterion': 'gini', 'min_samples_leaf': 8},\n",
       " mean: 0.92619, std: 0.03298, params: {'max_depth': 30, 'min_samples_split': 8, 'criterion': 'gini', 'min_samples_leaf': 8},\n",
       " mean: 0.92970, std: 0.03839, params: {'max_depth': 30, 'min_samples_split': 10, 'criterion': 'gini', 'min_samples_leaf': 8},\n",
       " mean: 0.92267, std: 0.02821, params: {'max_depth': None, 'min_samples_split': 2, 'criterion': 'gini', 'min_samples_leaf': 1},\n",
       " mean: 0.91213, std: 0.02900, params: {'max_depth': None, 'min_samples_split': 3, 'criterion': 'gini', 'min_samples_leaf': 1},\n",
       " mean: 0.91564, std: 0.03355, params: {'max_depth': None, 'min_samples_split': 5, 'criterion': 'gini', 'min_samples_leaf': 1},\n",
       " mean: 0.90861, std: 0.04824, params: {'max_depth': None, 'min_samples_split': 8, 'criterion': 'gini', 'min_samples_leaf': 1},\n",
       " mean: 0.90861, std: 0.03606, params: {'max_depth': None, 'min_samples_split': 10, 'criterion': 'gini', 'min_samples_leaf': 1},\n",
       " mean: 0.92091, std: 0.03237, params: {'max_depth': None, 'min_samples_split': 2, 'criterion': 'gini', 'min_samples_leaf': 2},\n",
       " mean: 0.90510, std: 0.03238, params: {'max_depth': None, 'min_samples_split': 3, 'criterion': 'gini', 'min_samples_leaf': 2},\n",
       " mean: 0.91037, std: 0.03343, params: {'max_depth': None, 'min_samples_split': 5, 'criterion': 'gini', 'min_samples_leaf': 2},\n",
       " mean: 0.90334, std: 0.03702, params: {'max_depth': None, 'min_samples_split': 8, 'criterion': 'gini', 'min_samples_leaf': 2},\n",
       " mean: 0.90334, std: 0.04019, params: {'max_depth': None, 'min_samples_split': 10, 'criterion': 'gini', 'min_samples_leaf': 2},\n",
       " mean: 0.90861, std: 0.03244, params: {'max_depth': None, 'min_samples_split': 2, 'criterion': 'gini', 'min_samples_leaf': 3},\n",
       " mean: 0.89631, std: 0.02693, params: {'max_depth': None, 'min_samples_split': 3, 'criterion': 'gini', 'min_samples_leaf': 3},\n",
       " mean: 0.91037, std: 0.03113, params: {'max_depth': None, 'min_samples_split': 5, 'criterion': 'gini', 'min_samples_leaf': 3},\n",
       " mean: 0.90685, std: 0.03334, params: {'max_depth': None, 'min_samples_split': 8, 'criterion': 'gini', 'min_samples_leaf': 3},\n",
       " mean: 0.89631, std: 0.03094, params: {'max_depth': None, 'min_samples_split': 10, 'criterion': 'gini', 'min_samples_leaf': 3},\n",
       " mean: 0.92443, std: 0.05149, params: {'max_depth': None, 'min_samples_split': 2, 'criterion': 'gini', 'min_samples_leaf': 5},\n",
       " mean: 0.92443, std: 0.05149, params: {'max_depth': None, 'min_samples_split': 3, 'criterion': 'gini', 'min_samples_leaf': 5},\n",
       " mean: 0.92619, std: 0.05133, params: {'max_depth': None, 'min_samples_split': 5, 'criterion': 'gini', 'min_samples_leaf': 5},\n",
       " mean: 0.92443, std: 0.05149, params: {'max_depth': None, 'min_samples_split': 8, 'criterion': 'gini', 'min_samples_leaf': 5},\n",
       " mean: 0.92267, std: 0.04580, params: {'max_depth': None, 'min_samples_split': 10, 'criterion': 'gini', 'min_samples_leaf': 5},\n",
       " mean: 0.92970, std: 0.03839, params: {'max_depth': None, 'min_samples_split': 2, 'criterion': 'gini', 'min_samples_leaf': 8},\n",
       " mean: 0.92619, std: 0.03910, params: {'max_depth': None, 'min_samples_split': 3, 'criterion': 'gini', 'min_samples_leaf': 8},\n",
       " mean: 0.92970, std: 0.03839, params: {'max_depth': None, 'min_samples_split': 5, 'criterion': 'gini', 'min_samples_leaf': 8},\n",
       " mean: 0.92443, std: 0.03321, params: {'max_depth': None, 'min_samples_split': 8, 'criterion': 'gini', 'min_samples_leaf': 8},\n",
       " mean: 0.92794, std: 0.03882, params: {'max_depth': None, 'min_samples_split': 10, 'criterion': 'gini', 'min_samples_leaf': 8},\n",
       " mean: 0.92970, std: 0.02758, params: {'max_depth': 10, 'min_samples_split': 2, 'criterion': 'entropy', 'min_samples_leaf': 1},\n",
       " mean: 0.93146, std: 0.02527, params: {'max_depth': 10, 'min_samples_split': 3, 'criterion': 'entropy', 'min_samples_leaf': 1},\n",
       " mean: 0.93497, std: 0.02462, params: {'max_depth': 10, 'min_samples_split': 5, 'criterion': 'entropy', 'min_samples_leaf': 1},\n",
       " mean: 0.93497, std: 0.02669, params: {'max_depth': 10, 'min_samples_split': 8, 'criterion': 'entropy', 'min_samples_leaf': 1},\n",
       " mean: 0.93673, std: 0.02809, params: {'max_depth': 10, 'min_samples_split': 10, 'criterion': 'entropy', 'min_samples_leaf': 1},\n",
       " mean: 0.92443, std: 0.04152, params: {'max_depth': 10, 'min_samples_split': 2, 'criterion': 'entropy', 'min_samples_leaf': 2},\n",
       " mean: 0.93497, std: 0.03462, params: {'max_depth': 10, 'min_samples_split': 3, 'criterion': 'entropy', 'min_samples_leaf': 2},\n",
       " mean: 0.92267, std: 0.04865, params: {'max_depth': 10, 'min_samples_split': 5, 'criterion': 'entropy', 'min_samples_leaf': 2},\n",
       " mean: 0.93146, std: 0.02927, params: {'max_depth': 10, 'min_samples_split': 8, 'criterion': 'entropy', 'min_samples_leaf': 2},\n",
       " mean: 0.92443, std: 0.03876, params: {'max_depth': 10, 'min_samples_split': 10, 'criterion': 'entropy', 'min_samples_leaf': 2},\n",
       " mean: 0.93673, std: 0.02919, params: {'max_depth': 10, 'min_samples_split': 2, 'criterion': 'entropy', 'min_samples_leaf': 3},\n",
       " mean: 0.93497, std: 0.03517, params: {'max_depth': 10, 'min_samples_split': 3, 'criterion': 'entropy', 'min_samples_leaf': 3},\n",
       " mean: 0.94200, std: 0.02446, params: {'max_depth': 10, 'min_samples_split': 5, 'criterion': 'entropy', 'min_samples_leaf': 3},\n",
       " mean: 0.93673, std: 0.03384, params: {'max_depth': 10, 'min_samples_split': 8, 'criterion': 'entropy', 'min_samples_leaf': 3},\n",
       " mean: 0.93497, std: 0.03283, params: {'max_depth': 10, 'min_samples_split': 10, 'criterion': 'entropy', 'min_samples_leaf': 3},\n",
       " mean: 0.94025, std: 0.02718, params: {'max_depth': 10, 'min_samples_split': 2, 'criterion': 'entropy', 'min_samples_leaf': 5},\n",
       " mean: 0.93322, std: 0.03667, params: {'max_depth': 10, 'min_samples_split': 3, 'criterion': 'entropy', 'min_samples_leaf': 5},\n",
       " mean: 0.93322, std: 0.03989, params: {'max_depth': 10, 'min_samples_split': 5, 'criterion': 'entropy', 'min_samples_leaf': 5},\n",
       " mean: 0.94376, std: 0.02431, params: {'max_depth': 10, 'min_samples_split': 8, 'criterion': 'entropy', 'min_samples_leaf': 5},\n",
       " mean: 0.93322, std: 0.04290, params: {'max_depth': 10, 'min_samples_split': 10, 'criterion': 'entropy', 'min_samples_leaf': 5},\n",
       " mean: 0.93322, std: 0.04114, params: {'max_depth': 10, 'min_samples_split': 2, 'criterion': 'entropy', 'min_samples_leaf': 8},\n",
       " mean: 0.94200, std: 0.02991, params: {'max_depth': 10, 'min_samples_split': 3, 'criterion': 'entropy', 'min_samples_leaf': 8},\n",
       " mean: 0.94376, std: 0.02634, params: {'max_depth': 10, 'min_samples_split': 5, 'criterion': 'entropy', 'min_samples_leaf': 8},\n",
       " mean: 0.94552, std: 0.02820, params: {'max_depth': 10, 'min_samples_split': 8, 'criterion': 'entropy', 'min_samples_leaf': 8},\n",
       " mean: 0.94376, std: 0.02858, params: {'max_depth': 10, 'min_samples_split': 10, 'criterion': 'entropy', 'min_samples_leaf': 8},\n",
       " mean: 0.93322, std: 0.03335, params: {'max_depth': 15, 'min_samples_split': 2, 'criterion': 'entropy', 'min_samples_leaf': 1},\n",
       " mean: 0.93673, std: 0.02697, params: {'max_depth': 15, 'min_samples_split': 3, 'criterion': 'entropy', 'min_samples_leaf': 1},\n",
       " mean: 0.92619, std: 0.03628, params: {'max_depth': 15, 'min_samples_split': 5, 'criterion': 'entropy', 'min_samples_leaf': 1},\n",
       " mean: 0.93322, std: 0.02983, params: {'max_depth': 15, 'min_samples_split': 8, 'criterion': 'entropy', 'min_samples_leaf': 1},\n",
       " mean: 0.93497, std: 0.02799, params: {'max_depth': 15, 'min_samples_split': 10, 'criterion': 'entropy', 'min_samples_leaf': 1},\n",
       " mean: 0.92794, std: 0.03059, params: {'max_depth': 15, 'min_samples_split': 2, 'criterion': 'entropy', 'min_samples_leaf': 2},\n",
       " mean: 0.92619, std: 0.03627, params: {'max_depth': 15, 'min_samples_split': 3, 'criterion': 'entropy', 'min_samples_leaf': 2},\n",
       " mean: 0.93673, std: 0.03413, params: {'max_depth': 15, 'min_samples_split': 5, 'criterion': 'entropy', 'min_samples_leaf': 2},\n",
       " mean: 0.93322, std: 0.03600, params: {'max_depth': 15, 'min_samples_split': 8, 'criterion': 'entropy', 'min_samples_leaf': 2},\n",
       " mean: 0.93497, std: 0.02799, params: {'max_depth': 15, 'min_samples_split': 10, 'criterion': 'entropy', 'min_samples_leaf': 2},\n",
       " mean: 0.93849, std: 0.03700, params: {'max_depth': 15, 'min_samples_split': 2, 'criterion': 'entropy', 'min_samples_leaf': 3},\n",
       " mean: 0.93497, std: 0.02685, params: {'max_depth': 15, 'min_samples_split': 3, 'criterion': 'entropy', 'min_samples_leaf': 3},\n",
       " mean: 0.93322, std: 0.02887, params: {'max_depth': 15, 'min_samples_split': 5, 'criterion': 'entropy', 'min_samples_leaf': 3},\n",
       " mean: 0.93849, std: 0.02468, params: {'max_depth': 15, 'min_samples_split': 8, 'criterion': 'entropy', 'min_samples_leaf': 3},\n",
       " mean: 0.93497, std: 0.03817, params: {'max_depth': 15, 'min_samples_split': 10, 'criterion': 'entropy', 'min_samples_leaf': 3},\n",
       " mean: 0.93497, std: 0.03770, params: {'max_depth': 15, 'min_samples_split': 2, 'criterion': 'entropy', 'min_samples_leaf': 5},\n",
       " mean: 0.93673, std: 0.03941, params: {'max_depth': 15, 'min_samples_split': 3, 'criterion': 'entropy', 'min_samples_leaf': 5},\n",
       " mean: 0.93322, std: 0.03915, params: {'max_depth': 15, 'min_samples_split': 5, 'criterion': 'entropy', 'min_samples_leaf': 5},\n",
       " mean: 0.93146, std: 0.04033, params: {'max_depth': 15, 'min_samples_split': 8, 'criterion': 'entropy', 'min_samples_leaf': 5},\n",
       " mean: 0.93673, std: 0.04173, params: {'max_depth': 15, 'min_samples_split': 10, 'criterion': 'entropy', 'min_samples_leaf': 5},\n",
       " mean: 0.93497, std: 0.04419, params: {'max_depth': 15, 'min_samples_split': 2, 'criterion': 'entropy', 'min_samples_leaf': 8},\n",
       " mean: 0.94728, std: 0.02656, params: {'max_depth': 15, 'min_samples_split': 3, 'criterion': 'entropy', 'min_samples_leaf': 8},\n",
       " mean: 0.94025, std: 0.04138, params: {'max_depth': 15, 'min_samples_split': 5, 'criterion': 'entropy', 'min_samples_leaf': 8},\n",
       " mean: 0.93673, std: 0.04358, params: {'max_depth': 15, 'min_samples_split': 8, 'criterion': 'entropy', 'min_samples_leaf': 8},\n",
       " mean: 0.94376, std: 0.02393, params: {'max_depth': 15, 'min_samples_split': 10, 'criterion': 'entropy', 'min_samples_leaf': 8},\n",
       " mean: 0.93849, std: 0.03005, params: {'max_depth': 20, 'min_samples_split': 2, 'criterion': 'entropy', 'min_samples_leaf': 1},\n",
       " mean: 0.92794, std: 0.02948, params: {'max_depth': 20, 'min_samples_split': 3, 'criterion': 'entropy', 'min_samples_leaf': 1},\n",
       " mean: 0.93322, std: 0.03680, params: {'max_depth': 20, 'min_samples_split': 5, 'criterion': 'entropy', 'min_samples_leaf': 1},\n",
       " mean: 0.93497, std: 0.03281, params: {'max_depth': 20, 'min_samples_split': 8, 'criterion': 'entropy', 'min_samples_leaf': 1},\n",
       " mean: 0.93497, std: 0.03620, params: {'max_depth': 20, 'min_samples_split': 10, 'criterion': 'entropy', 'min_samples_leaf': 1},\n",
       " mean: 0.92794, std: 0.04102, params: {'max_depth': 20, 'min_samples_split': 2, 'criterion': 'entropy', 'min_samples_leaf': 2},\n",
       " mean: 0.92970, std: 0.03841, params: {'max_depth': 20, 'min_samples_split': 3, 'criterion': 'entropy', 'min_samples_leaf': 2},\n",
       " mean: 0.93322, std: 0.04477, params: {'max_depth': 20, 'min_samples_split': 5, 'criterion': 'entropy', 'min_samples_leaf': 2},\n",
       " mean: 0.94025, std: 0.02787, params: {'max_depth': 20, 'min_samples_split': 8, 'criterion': 'entropy', 'min_samples_leaf': 2},\n",
       " mean: 0.92970, std: 0.04246, params: {'max_depth': 20, 'min_samples_split': 10, 'criterion': 'entropy', 'min_samples_leaf': 2},\n",
       " mean: 0.93849, std: 0.02803, params: {'max_depth': 20, 'min_samples_split': 2, 'criterion': 'entropy', 'min_samples_leaf': 3},\n",
       " mean: 0.93673, std: 0.02688, params: {'max_depth': 20, 'min_samples_split': 3, 'criterion': 'entropy', 'min_samples_leaf': 3},\n",
       " mean: 0.93497, std: 0.02193, params: {'max_depth': 20, 'min_samples_split': 5, 'criterion': 'entropy', 'min_samples_leaf': 3},\n",
       " mean: 0.93673, std: 0.02337, params: {'max_depth': 20, 'min_samples_split': 8, 'criterion': 'entropy', 'min_samples_leaf': 3},\n",
       " mean: 0.93322, std: 0.03987, params: {'max_depth': 20, 'min_samples_split': 10, 'criterion': 'entropy', 'min_samples_leaf': 3},\n",
       " mean: 0.93497, std: 0.03692, params: {'max_depth': 20, 'min_samples_split': 2, 'criterion': 'entropy', 'min_samples_leaf': 5},\n",
       " mean: 0.93497, std: 0.04012, params: {'max_depth': 20, 'min_samples_split': 3, 'criterion': 'entropy', 'min_samples_leaf': 5},\n",
       " mean: 0.93497, std: 0.04448, params: {'max_depth': 20, 'min_samples_split': 5, 'criterion': 'entropy', 'min_samples_leaf': 5},\n",
       " mean: 0.93322, std: 0.03667, params: {'max_depth': 20, 'min_samples_split': 8, 'criterion': 'entropy', 'min_samples_leaf': 5},\n",
       " mean: 0.93849, std: 0.02717, params: {'max_depth': 20, 'min_samples_split': 10, 'criterion': 'entropy', 'min_samples_leaf': 5},\n",
       " mean: 0.94200, std: 0.02664, params: {'max_depth': 20, 'min_samples_split': 2, 'criterion': 'entropy', 'min_samples_leaf': 8},\n",
       " mean: 0.93673, std: 0.04358, params: {'max_depth': 20, 'min_samples_split': 3, 'criterion': 'entropy', 'min_samples_leaf': 8},\n",
       " mean: 0.94200, std: 0.02991, params: {'max_depth': 20, 'min_samples_split': 5, 'criterion': 'entropy', 'min_samples_leaf': 8},\n",
       " mean: 0.93322, std: 0.04114, params: {'max_depth': 20, 'min_samples_split': 8, 'criterion': 'entropy', 'min_samples_leaf': 8},\n",
       " mean: 0.94200, std: 0.02549, params: {'max_depth': 20, 'min_samples_split': 10, 'criterion': 'entropy', 'min_samples_leaf': 8},\n",
       " mean: 0.92970, std: 0.03746, params: {'max_depth': 30, 'min_samples_split': 2, 'criterion': 'entropy', 'min_samples_leaf': 1},\n",
       " mean: 0.93322, std: 0.03046, params: {'max_depth': 30, 'min_samples_split': 3, 'criterion': 'entropy', 'min_samples_leaf': 1},\n",
       " mean: 0.93849, std: 0.02084, params: {'max_depth': 30, 'min_samples_split': 5, 'criterion': 'entropy', 'min_samples_leaf': 1},\n",
       " mean: 0.93849, std: 0.03277, params: {'max_depth': 30, 'min_samples_split': 8, 'criterion': 'entropy', 'min_samples_leaf': 1},\n",
       " mean: 0.93497, std: 0.03817, params: {'max_depth': 30, 'min_samples_split': 10, 'criterion': 'entropy', 'min_samples_leaf': 1},\n",
       " mean: 0.92443, std: 0.03811, params: {'max_depth': 30, 'min_samples_split': 2, 'criterion': 'entropy', 'min_samples_leaf': 2},\n",
       " mean: 0.92970, std: 0.03653, params: {'max_depth': 30, 'min_samples_split': 3, 'criterion': 'entropy', 'min_samples_leaf': 2},\n",
       " mean: 0.93497, std: 0.03273, params: {'max_depth': 30, 'min_samples_split': 5, 'criterion': 'entropy', 'min_samples_leaf': 2},\n",
       " mean: 0.93322, std: 0.02837, params: {'max_depth': 30, 'min_samples_split': 8, 'criterion': 'entropy', 'min_samples_leaf': 2},\n",
       " mean: 0.93322, std: 0.03424, params: {'max_depth': 30, 'min_samples_split': 10, 'criterion': 'entropy', 'min_samples_leaf': 2},\n",
       " mean: 0.93497, std: 0.03517, params: {'max_depth': 30, 'min_samples_split': 2, 'criterion': 'entropy', 'min_samples_leaf': 3},\n",
       " mean: 0.93322, std: 0.03367, params: {'max_depth': 30, 'min_samples_split': 3, 'criterion': 'entropy', 'min_samples_leaf': 3},\n",
       " mean: 0.93849, std: 0.02487, params: {'max_depth': 30, 'min_samples_split': 5, 'criterion': 'entropy', 'min_samples_leaf': 3},\n",
       " mean: 0.93673, std: 0.03294, params: {'max_depth': 30, 'min_samples_split': 8, 'criterion': 'entropy', 'min_samples_leaf': 3},\n",
       " mean: 0.93849, std: 0.03025, params: {'max_depth': 30, 'min_samples_split': 10, 'criterion': 'entropy', 'min_samples_leaf': 3},\n",
       " mean: 0.93673, std: 0.04173, params: {'max_depth': 30, 'min_samples_split': 2, 'criterion': 'entropy', 'min_samples_leaf': 5},\n",
       " mean: 0.93322, std: 0.03915, params: {'max_depth': 30, 'min_samples_split': 3, 'criterion': 'entropy', 'min_samples_leaf': 5},\n",
       " mean: 0.93322, std: 0.03915, params: {'max_depth': 30, 'min_samples_split': 5, 'criterion': 'entropy', 'min_samples_leaf': 5},\n",
       " mean: 0.94376, std: 0.02431, params: {'max_depth': 30, 'min_samples_split': 8, 'criterion': 'entropy', 'min_samples_leaf': 5},\n",
       " mean: 0.93849, std: 0.02468, params: {'max_depth': 30, 'min_samples_split': 10, 'criterion': 'entropy', 'min_samples_leaf': 5},\n",
       " mean: 0.94376, std: 0.02858, params: {'max_depth': 30, 'min_samples_split': 2, 'criterion': 'entropy', 'min_samples_leaf': 8},\n",
       " mean: 0.93322, std: 0.04114, params: {'max_depth': 30, 'min_samples_split': 3, 'criterion': 'entropy', 'min_samples_leaf': 8},\n",
       " mean: 0.94376, std: 0.02634, params: {'max_depth': 30, 'min_samples_split': 5, 'criterion': 'entropy', 'min_samples_leaf': 8},\n",
       " mean: 0.93673, std: 0.04214, params: {'max_depth': 30, 'min_samples_split': 8, 'criterion': 'entropy', 'min_samples_leaf': 8},\n",
       " mean: 0.94200, std: 0.04273, params: {'max_depth': 30, 'min_samples_split': 10, 'criterion': 'entropy', 'min_samples_leaf': 8},\n",
       " mean: 0.93322, std: 0.02979, params: {'max_depth': None, 'min_samples_split': 2, 'criterion': 'entropy', 'min_samples_leaf': 1},\n",
       " mean: 0.93497, std: 0.02689, params: {'max_depth': None, 'min_samples_split': 3, 'criterion': 'entropy', 'min_samples_leaf': 1},\n",
       " mean: 0.94025, std: 0.03017, params: {'max_depth': None, 'min_samples_split': 5, 'criterion': 'entropy', 'min_samples_leaf': 1},\n",
       " mean: 0.93849, std: 0.03388, params: {'max_depth': None, 'min_samples_split': 8, 'criterion': 'entropy', 'min_samples_leaf': 1},\n",
       " mean: 0.93322, std: 0.03607, params: {'max_depth': None, 'min_samples_split': 10, 'criterion': 'entropy', 'min_samples_leaf': 1},\n",
       " mean: 0.93146, std: 0.03832, params: {'max_depth': None, 'min_samples_split': 2, 'criterion': 'entropy', 'min_samples_leaf': 2},\n",
       " mean: 0.93146, std: 0.03863, params: {'max_depth': None, 'min_samples_split': 3, 'criterion': 'entropy', 'min_samples_leaf': 2},\n",
       " mean: 0.93673, std: 0.03189, params: {'max_depth': None, 'min_samples_split': 5, 'criterion': 'entropy', 'min_samples_leaf': 2},\n",
       " mean: 0.93497, std: 0.03070, params: {'max_depth': None, 'min_samples_split': 8, 'criterion': 'entropy', 'min_samples_leaf': 2},\n",
       " mean: 0.92970, std: 0.04246, params: {'max_depth': None, 'min_samples_split': 10, 'criterion': 'entropy', 'min_samples_leaf': 2},\n",
       " mean: 0.92794, std: 0.03896, params: {'max_depth': None, 'min_samples_split': 2, 'criterion': 'entropy', 'min_samples_leaf': 3},\n",
       " mean: 0.93673, std: 0.02489, params: {'max_depth': None, 'min_samples_split': 3, 'criterion': 'entropy', 'min_samples_leaf': 3},\n",
       " mean: 0.93497, std: 0.03522, params: {'max_depth': None, 'min_samples_split': 5, 'criterion': 'entropy', 'min_samples_leaf': 3},\n",
       " mean: 0.93146, std: 0.04036, params: {'max_depth': None, 'min_samples_split': 8, 'criterion': 'entropy', 'min_samples_leaf': 3},\n",
       " mean: 0.93146, std: 0.04674, params: {'max_depth': None, 'min_samples_split': 10, 'criterion': 'entropy', 'min_samples_leaf': 3},\n",
       " mean: 0.93322, std: 0.03915, params: {'max_depth': None, 'min_samples_split': 2, 'criterion': 'entropy', 'min_samples_leaf': 5},\n",
       " mean: 0.94200, std: 0.02334, params: {'max_depth': None, 'min_samples_split': 3, 'criterion': 'entropy', 'min_samples_leaf': 5},\n",
       " mean: 0.94025, std: 0.02822, params: {'max_depth': None, 'min_samples_split': 5, 'criterion': 'entropy', 'min_samples_leaf': 5},\n",
       " mean: 0.93322, std: 0.03667, params: {'max_depth': None, 'min_samples_split': 8, 'criterion': 'entropy', 'min_samples_leaf': 5},\n",
       " mean: 0.93497, std: 0.03692, params: {'max_depth': None, 'min_samples_split': 10, 'criterion': 'entropy', 'min_samples_leaf': 5},\n",
       " mean: 0.93322, std: 0.04114, params: {'max_depth': None, 'min_samples_split': 2, 'criterion': 'entropy', 'min_samples_leaf': 8},\n",
       " mean: 0.93673, std: 0.04358, params: {'max_depth': None, 'min_samples_split': 3, 'criterion': 'entropy', 'min_samples_leaf': 8},\n",
       " mean: 0.94552, std: 0.02470, params: {'max_depth': None, 'min_samples_split': 5, 'criterion': 'entropy', 'min_samples_leaf': 8},\n",
       " mean: 0.94552, std: 0.02820, params: {'max_depth': None, 'min_samples_split': 8, 'criterion': 'entropy', 'min_samples_leaf': 8},\n",
       " mean: 0.93497, std: 0.04204, params: {'max_depth': None, 'min_samples_split': 10, 'criterion': 'entropy', 'min_samples_leaf': 8}]"
      ]
     },
     "execution_count": 3,
     "metadata": {},
     "output_type": "execute_result"
    }
   ],
   "source": [
    "from sklearn.grid_search import GridSearchCV\n",
    "from sklearn.tree import DecisionTreeClassifier\n",
    "clf = DecisionTreeClassifier()\n",
    "\n",
    "criterion = ['gini','entropy']\n",
    "max_depth = [10, 15, 20, 30, None]\n",
    "min_samples_split = [2, 3, 5, 8, 10]\n",
    "min_samples_leaf = [1, 2, 3, 5, 8]\n",
    "param_grid = [{'criterion': criterion, 'max_depth':max_depth, 'min_samples_split':min_samples_split, 'min_samples_leaf':min_samples_leaf}]\n",
    "grid_search = GridSearchCV(clf, param_grid=param_grid, cv=10)\n",
    "grid_search.fit(data, target)\n",
    "grid_search.grid_scores_"
   ]
  },
  {
   "cell_type": "code",
   "execution_count": 4,
   "metadata": {
    "collapsed": false
   },
   "outputs": [
    {
     "data": {
      "text/plain": [
       "(0.9472759226713533,\n",
       " DecisionTreeClassifier(class_weight=None, criterion='entropy', max_depth=15,\n",
       "             max_features=None, max_leaf_nodes=None, min_samples_leaf=8,\n",
       "             min_samples_split=3, min_weight_fraction_leaf=0.0,\n",
       "             presort=False, random_state=None, splitter='best'),\n",
       " {'criterion': 'entropy',\n",
       "  'max_depth': 15,\n",
       "  'min_samples_leaf': 8,\n",
       "  'min_samples_split': 3})"
      ]
     },
     "execution_count": 4,
     "metadata": {},
     "output_type": "execute_result"
    }
   ],
   "source": [
    "grid_search.best_score_, grid_search.best_estimator_, grid_search.best_params_"
   ]
  },
  {
   "cell_type": "code",
   "execution_count": 5,
   "metadata": {
    "collapsed": false
   },
   "outputs": [
    {
     "data": {
      "text/plain": [
       "GridSearchCV(cv=10, error_score='raise',\n",
       "       estimator=RandomForestClassifier(bootstrap=True, class_weight=None, criterion='gini',\n",
       "            max_depth=None, max_features='auto', max_leaf_nodes=None,\n",
       "            min_samples_leaf=1, min_samples_split=2,\n",
       "            min_weight_fraction_leaf=0.0, n_estimators=10, n_jobs=1,\n",
       "            oob_score=False, random_state=0, verbose=0, warm_start=False),\n",
       "       fit_params={}, iid=True, n_jobs=1,\n",
       "       param_grid=[{'n_estimators': [10, 20, 35, 50, 80, 100, 120, 150, 200]}],\n",
       "       pre_dispatch='2*n_jobs', refit=True, scoring=None, verbose=0)"
      ]
     },
     "execution_count": 5,
     "metadata": {},
     "output_type": "execute_result"
    }
   ],
   "source": [
    "from sklearn.grid_search import GridSearchCV\n",
    "from sklearn.ensemble import RandomForestClassifier\n",
    "clf = RandomForestClassifier(random_state=0)\n",
    "\n",
    "n_estimators = [10, 20, 35, 50, 80, 100, 120, 150, 200]\n",
    "param_grid = [{'n_estimators': n_estimators}]\n",
    "grid_search = GridSearchCV(clf, param_grid=param_grid, cv=10)\n",
    "grid_search.fit(data, target)"
   ]
  },
  {
   "cell_type": "code",
   "execution_count": 6,
   "metadata": {
    "collapsed": false
   },
   "outputs": [
    {
     "data": {
      "text/plain": [
       "[mean: 0.95079, std: 0.01886, params: {'n_estimators': 10},\n",
       " mean: 0.95958, std: 0.03285, params: {'n_estimators': 20},\n",
       " mean: 0.96134, std: 0.03059, params: {'n_estimators': 35},\n",
       " mean: 0.96485, std: 0.02782, params: {'n_estimators': 50},\n",
       " mean: 0.96661, std: 0.02739, params: {'n_estimators': 80},\n",
       " mean: 0.96485, std: 0.02572, params: {'n_estimators': 100},\n",
       " mean: 0.96485, std: 0.02909, params: {'n_estimators': 120},\n",
       " mean: 0.96309, std: 0.03240, params: {'n_estimators': 150},\n",
       " mean: 0.96837, std: 0.02547, params: {'n_estimators': 200}]"
      ]
     },
     "execution_count": 6,
     "metadata": {},
     "output_type": "execute_result"
    }
   ],
   "source": [
    "grid_search.grid_scores_"
   ]
  },
  {
   "cell_type": "code",
   "execution_count": 7,
   "metadata": {
    "collapsed": false
   },
   "outputs": [
    {
     "data": {
      "text/plain": [
       "(0.96836555360281196,\n",
       " RandomForestClassifier(bootstrap=True, class_weight=None, criterion='gini',\n",
       "             max_depth=None, max_features='auto', max_leaf_nodes=None,\n",
       "             min_samples_leaf=1, min_samples_split=2,\n",
       "             min_weight_fraction_leaf=0.0, n_estimators=200, n_jobs=1,\n",
       "             oob_score=False, random_state=0, verbose=0, warm_start=False),\n",
       " {'n_estimators': 200})"
      ]
     },
     "execution_count": 7,
     "metadata": {},
     "output_type": "execute_result"
    }
   ],
   "source": [
    "grid_search.best_score_, grid_search.best_estimator_, grid_search.best_params_"
   ]
  },
  {
   "cell_type": "code",
   "execution_count": 8,
   "metadata": {
    "collapsed": false
   },
   "outputs": [
    {
     "data": {
      "text/plain": [
       "0.93859649122807021"
      ]
     },
     "execution_count": 8,
     "metadata": {},
     "output_type": "execute_result"
    }
   ],
   "source": [
    "clf  = RandomForestClassifier(bootstrap=True, class_weight=None, criterion='gini',\n",
    "             max_depth=None, max_features='auto', max_leaf_nodes=None,\n",
    "             min_samples_leaf=1, min_samples_split=2,\n",
    "             min_weight_fraction_leaf=0.0, n_estimators=200, n_jobs=1,\n",
    "             oob_score=False, random_state=0, verbose=0, warm_start=False)\n",
    "from sklearn.cross_validation import train_test_split\n",
    "Xtrain, Xtest, ytrain, ytest = train_test_split(data, target, test_size=0.2,\n",
    "                                                random_state=2)\n",
    "clf.fit(Xtrain, ytrain)\n",
    "clf.score(Xtest, ytest)"
   ]
  },
  {
   "cell_type": "code",
   "execution_count": 9,
   "metadata": {
    "collapsed": false
   },
   "outputs": [
    {
     "name": "stdout",
     "output_type": "stream",
     "text": [
      "[[42  3]\n",
      " [ 4 65]]\n"
     ]
    }
   ],
   "source": [
    "from sklearn.metrics import confusion_matrix\n",
    "print(confusion_matrix(ytest, clf.predict(Xtest)))"
   ]
  },
  {
   "cell_type": "code",
   "execution_count": 1,
   "metadata": {
    "collapsed": true
   },
   "outputs": [],
   "source": [
    "import numpy as np\n",
    "import scipy as sp\n",
    "import seaborn as sb\n",
    "import pandas as pd\n",
    "import matplotlib.pyplot as plt\n",
    "\n",
    "#获取数据\n",
    "from sklearn import datasets\n",
    "cancers = datasets.load_breast_cancer()\n",
    "data_ = (list(i)+[cancers['target_names'][j]] for i,j in zip(cancers['data'],cancers['target']))\n",
    "cancers_pd = pd.DataFrame(data_, columns=list(cancers['feature_names'])+['cancer type'])\n",
    "\n",
    "#判断数据是否有NAN\n",
    "cancers_pd.isnull()\n",
    "#判断数据是否有0\n",
    "cancers_pd.min(axis=0)\n",
    "\n",
    "sb.distplot(cancers_pd['mean concavity'])\n",
    "sb.distplot(cancers_pd['mean concave points'])\n",
    "sb.distplot(cancers_pd['worst concavity'])\n",
    "sb.distplot(cancers_pd['worst concave points'])\n",
    "\n",
    "\n",
    "data, target, target_names = cancers['data'], cancers['target'], cancers['target_names']\n",
    "data.shape\n",
    "targetstr = np.array([target_names[i]] for i in target)\n",
    "\n",
    "import collections\n",
    "counter = collections.Counter(cancers_pd['cancer type'])\n",
    "counter.most_common(2)\n",
    "\n",
    "\n",
    "## PCA降维\n",
    "from sklearn.decomposition import PCA\n",
    "pca = PCA(n_components=2)\n",
    "data_pca = pca.fit_transform(data)\n",
    "plt.scatter(data_pca[:, 0], data_pca[:, 1], c=target, edgecolor='none', alpha=0.5, cmap=plt.cm.get_cmap('rainbow', 2))\n",
    "plt.colorbar();\n",
    "\n",
    "## PCA能量\n",
    "sb.set()\n",
    "pca_ = PCA().fit(data)\n",
    "plt.plot(np.cumsum(pca_.explained_variance_ratio_))\n",
    "plt.xlabel('number of components')\n",
    "plt.ylabel('cumulative explained variance');\n",
    "plt.xlim(0,5)\n",
    "\n",
    "## IsoMap降维\n",
    "from sklearn.manifold import Isomap\n",
    "iso = Isomap(n_components=2)\n",
    "data_projected = iso.fit_transform(data)\n",
    "plt.scatter(data_projected[:, 0], data_projected[:, 1], c=target,edgecolor='none', alpha=0.5, cmap=plt.cm.get_cmap('rainbow', 2));\n",
    "plt.colorbar(label='Cancer', ticks=range(2))\n",
    "plt.clim(-200, 0)"
   ]
  },
  {
   "cell_type": "code",
   "execution_count": 2,
   "metadata": {
    "collapsed": false
   },
   "outputs": [
    {
     "data": {
      "text/plain": [
       "GridSearchCV(cv=10, error_score='raise',\n",
       "       estimator=SVC(C=1.0, cache_size=200, class_weight=None, coef0=0.0,\n",
       "  decision_function_shape=None, degree=3, gamma='auto', kernel='rbf',\n",
       "  max_iter=-1, probability=False, random_state=None, shrinking=True,\n",
       "  tol=0.001, verbose=False),\n",
       "       fit_params={}, iid=True, n_jobs=1,\n",
       "       param_grid=[{'C': [0.1, 0.5, 1, 5, 10], 'kernel': ['linear']}],\n",
       "       pre_dispatch='2*n_jobs', refit=True, scoring=None, verbose=0)"
      ]
     },
     "execution_count": 2,
     "metadata": {},
     "output_type": "execute_result"
    }
   ],
   "source": [
    "from sklearn.grid_search import GridSearchCV\n",
    "from sklearn.svm import SVC\n",
    "clf = SVC()\n",
    "\n",
    "C = [0.1, 0.5, 1, 5, 10]\n",
    "kernel = ['linear']\n",
    "param_grid = [{'C': C, 'kernel':kernel}]\n",
    "grid_search = GridSearchCV(clf, param_grid=param_grid, cv=10)\n",
    "grid_search.fit(data, target)"
   ]
  },
  {
   "cell_type": "code",
   "execution_count": 3,
   "metadata": {
    "collapsed": false
   },
   "outputs": [
    {
     "data": {
      "text/plain": [
       "[mean: 0.94728, std: 0.02093, params: {'C': 0.1, 'kernel': 'linear'},\n",
       " mean: 0.95255, std: 0.01922, params: {'C': 0.5, 'kernel': 'linear'},\n",
       " mean: 0.95431, std: 0.01940, params: {'C': 1, 'kernel': 'linear'},\n",
       " mean: 0.95431, std: 0.01940, params: {'C': 5, 'kernel': 'linear'},\n",
       " mean: 0.95079, std: 0.02188, params: {'C': 10, 'kernel': 'linear'}]"
      ]
     },
     "execution_count": 3,
     "metadata": {},
     "output_type": "execute_result"
    }
   ],
   "source": [
    "grid_search.grid_scores_"
   ]
  },
  {
   "cell_type": "code",
   "execution_count": 4,
   "metadata": {
    "collapsed": false
   },
   "outputs": [
    {
     "data": {
      "text/plain": [
       "(0.95430579964850615, SVC(C=1, cache_size=200, class_weight=None, coef0=0.0,\n",
       "   decision_function_shape=None, degree=3, gamma='auto', kernel='linear',\n",
       "   max_iter=-1, probability=False, random_state=None, shrinking=True,\n",
       "   tol=0.001, verbose=False), {'C': 1, 'kernel': 'linear'})"
      ]
     },
     "execution_count": 4,
     "metadata": {},
     "output_type": "execute_result"
    }
   ],
   "source": [
    "grid_search.best_score_, grid_search.best_estimator_, grid_search.best_params_"
   ]
  },
  {
   "cell_type": "code",
   "execution_count": 5,
   "metadata": {
    "collapsed": false
   },
   "outputs": [
    {
     "data": {
      "text/plain": [
       "GridSearchCV(cv=10, error_score='raise',\n",
       "       estimator=SVC(C=1.0, cache_size=200, class_weight=None, coef0=0.0,\n",
       "  decision_function_shape=None, degree=3, gamma='auto', kernel='rbf',\n",
       "  max_iter=-1, probability=False, random_state=None, shrinking=True,\n",
       "  tol=0.001, verbose=False),\n",
       "       fit_params={}, iid=True, n_jobs=1,\n",
       "       param_grid=[{'C': [0.1, 0.5, 1, 5, 10], 'kernel': ['rbf']}],\n",
       "       pre_dispatch='2*n_jobs', refit=True, scoring=None, verbose=0)"
      ]
     },
     "execution_count": 5,
     "metadata": {},
     "output_type": "execute_result"
    }
   ],
   "source": [
    "from sklearn.grid_search import GridSearchCV\n",
    "from sklearn.svm import SVC\n",
    "clf = SVC()\n",
    "\n",
    "C = [0.1, 0.5, 1, 5, 10]\n",
    "kernel = [ 'rbf']\n",
    "param_grid = [{'C': C, 'kernel':kernel}]\n",
    "grid_search = GridSearchCV(clf, param_grid=param_grid, cv=10)\n",
    "grid_search.fit(data, target)"
   ]
  },
  {
   "cell_type": "code",
   "execution_count": 6,
   "metadata": {
    "collapsed": false
   },
   "outputs": [
    {
     "data": {
      "text/plain": [
       "[mean: 0.62742, std: 0.00441, params: {'C': 0.1, 'kernel': 'rbf'},\n",
       " mean: 0.62742, std: 0.00441, params: {'C': 0.5, 'kernel': 'rbf'},\n",
       " mean: 0.62742, std: 0.00441, params: {'C': 1, 'kernel': 'rbf'},\n",
       " mean: 0.62742, std: 0.00441, params: {'C': 5, 'kernel': 'rbf'},\n",
       " mean: 0.62742, std: 0.00441, params: {'C': 10, 'kernel': 'rbf'}]"
      ]
     },
     "execution_count": 6,
     "metadata": {},
     "output_type": "execute_result"
    }
   ],
   "source": [
    "grid_search.grid_scores_"
   ]
  },
  {
   "cell_type": "code",
   "execution_count": 7,
   "metadata": {
    "collapsed": false
   },
   "outputs": [
    {
     "data": {
      "text/plain": [
       "(0.62741652021089633, SVC(C=0.1, cache_size=200, class_weight=None, coef0=0.0,\n",
       "   decision_function_shape=None, degree=3, gamma='auto', kernel='rbf',\n",
       "   max_iter=-1, probability=False, random_state=None, shrinking=True,\n",
       "   tol=0.001, verbose=False), {'C': 0.1, 'kernel': 'rbf'})"
      ]
     },
     "execution_count": 7,
     "metadata": {},
     "output_type": "execute_result"
    }
   ],
   "source": [
    "grid_search.best_score_, grid_search.best_estimator_, grid_search.best_params_"
   ]
  },
  {
   "cell_type": "code",
   "execution_count": 8,
   "metadata": {
    "collapsed": true
   },
   "outputs": [],
   "source": [
    "z = SVC(C=0.1, cache_size=200, class_weight=None, coef0=0.0,\n",
    "   decision_function_shape=None, degree=3, gamma='auto', kernel='rbf',\n",
    "   max_iter=-1, probability=False, random_state=None, shrinking=True,\n",
    "   tol=0.001, verbose=False)"
   ]
  },
  {
   "cell_type": "code",
   "execution_count": 9,
   "metadata": {
    "collapsed": false
   },
   "outputs": [
    {
     "ename": "NotFittedError",
     "evalue": "This SVC instance is not fitted yet. Call 'fit' with appropriate arguments before using this method.",
     "output_type": "error",
     "traceback": [
      "\u001b[1;31m---------------------------------------------------------------------------\u001b[0m",
      "\u001b[1;31mNotFittedError\u001b[0m                            Traceback (most recent call last)",
      "\u001b[1;32m<ipython-input-9-8d87a988e177>\u001b[0m in \u001b[0;36m<module>\u001b[1;34m()\u001b[0m\n\u001b[1;32m----> 1\u001b[1;33m \u001b[0mz\u001b[0m\u001b[1;33m.\u001b[0m\u001b[0mpredict\u001b[0m\u001b[1;33m(\u001b[0m\u001b[0mdata\u001b[0m\u001b[1;33m)\u001b[0m\u001b[1;33m\u001b[0m\u001b[0m\n\u001b[0m",
      "\u001b[1;32m/home/spirit/anaconda3/lib/python3.5/site-packages/sklearn/svm/base.py\u001b[0m in \u001b[0;36mpredict\u001b[1;34m(self, X)\u001b[0m\n\u001b[0;32m    566\u001b[0m             \u001b[0mClass\u001b[0m \u001b[0mlabels\u001b[0m \u001b[1;32mfor\u001b[0m \u001b[0msamples\u001b[0m \u001b[1;32min\u001b[0m \u001b[0mX\u001b[0m\u001b[1;33m.\u001b[0m\u001b[1;33m\u001b[0m\u001b[0m\n\u001b[0;32m    567\u001b[0m         \"\"\"\n\u001b[1;32m--> 568\u001b[1;33m         \u001b[0my\u001b[0m \u001b[1;33m=\u001b[0m \u001b[0msuper\u001b[0m\u001b[1;33m(\u001b[0m\u001b[0mBaseSVC\u001b[0m\u001b[1;33m,\u001b[0m \u001b[0mself\u001b[0m\u001b[1;33m)\u001b[0m\u001b[1;33m.\u001b[0m\u001b[0mpredict\u001b[0m\u001b[1;33m(\u001b[0m\u001b[0mX\u001b[0m\u001b[1;33m)\u001b[0m\u001b[1;33m\u001b[0m\u001b[0m\n\u001b[0m\u001b[0;32m    569\u001b[0m         \u001b[1;32mreturn\u001b[0m \u001b[0mself\u001b[0m\u001b[1;33m.\u001b[0m\u001b[0mclasses_\u001b[0m\u001b[1;33m.\u001b[0m\u001b[0mtake\u001b[0m\u001b[1;33m(\u001b[0m\u001b[0mnp\u001b[0m\u001b[1;33m.\u001b[0m\u001b[0masarray\u001b[0m\u001b[1;33m(\u001b[0m\u001b[0my\u001b[0m\u001b[1;33m,\u001b[0m \u001b[0mdtype\u001b[0m\u001b[1;33m=\u001b[0m\u001b[0mnp\u001b[0m\u001b[1;33m.\u001b[0m\u001b[0mintp\u001b[0m\u001b[1;33m)\u001b[0m\u001b[1;33m)\u001b[0m\u001b[1;33m\u001b[0m\u001b[0m\n\u001b[0;32m    570\u001b[0m \u001b[1;33m\u001b[0m\u001b[0m\n",
      "\u001b[1;32m/home/spirit/anaconda3/lib/python3.5/site-packages/sklearn/svm/base.py\u001b[0m in \u001b[0;36mpredict\u001b[1;34m(self, X)\u001b[0m\n\u001b[0;32m    303\u001b[0m         \u001b[0my_pred\u001b[0m \u001b[1;33m:\u001b[0m \u001b[0marray\u001b[0m\u001b[1;33m,\u001b[0m \u001b[0mshape\u001b[0m \u001b[1;33m(\u001b[0m\u001b[0mn_samples\u001b[0m\u001b[1;33m,\u001b[0m\u001b[1;33m)\u001b[0m\u001b[1;33m\u001b[0m\u001b[0m\n\u001b[0;32m    304\u001b[0m         \"\"\"\n\u001b[1;32m--> 305\u001b[1;33m         \u001b[0mX\u001b[0m \u001b[1;33m=\u001b[0m \u001b[0mself\u001b[0m\u001b[1;33m.\u001b[0m\u001b[0m_validate_for_predict\u001b[0m\u001b[1;33m(\u001b[0m\u001b[0mX\u001b[0m\u001b[1;33m)\u001b[0m\u001b[1;33m\u001b[0m\u001b[0m\n\u001b[0m\u001b[0;32m    306\u001b[0m         \u001b[0mpredict\u001b[0m \u001b[1;33m=\u001b[0m \u001b[0mself\u001b[0m\u001b[1;33m.\u001b[0m\u001b[0m_sparse_predict\u001b[0m \u001b[1;32mif\u001b[0m \u001b[0mself\u001b[0m\u001b[1;33m.\u001b[0m\u001b[0m_sparse\u001b[0m \u001b[1;32melse\u001b[0m \u001b[0mself\u001b[0m\u001b[1;33m.\u001b[0m\u001b[0m_dense_predict\u001b[0m\u001b[1;33m\u001b[0m\u001b[0m\n\u001b[0;32m    307\u001b[0m         \u001b[1;32mreturn\u001b[0m \u001b[0mpredict\u001b[0m\u001b[1;33m(\u001b[0m\u001b[0mX\u001b[0m\u001b[1;33m)\u001b[0m\u001b[1;33m\u001b[0m\u001b[0m\n",
      "\u001b[1;32m/home/spirit/anaconda3/lib/python3.5/site-packages/sklearn/svm/base.py\u001b[0m in \u001b[0;36m_validate_for_predict\u001b[1;34m(self, X)\u001b[0m\n\u001b[0;32m    450\u001b[0m \u001b[1;33m\u001b[0m\u001b[0m\n\u001b[0;32m    451\u001b[0m     \u001b[1;32mdef\u001b[0m \u001b[0m_validate_for_predict\u001b[0m\u001b[1;33m(\u001b[0m\u001b[0mself\u001b[0m\u001b[1;33m,\u001b[0m \u001b[0mX\u001b[0m\u001b[1;33m)\u001b[0m\u001b[1;33m:\u001b[0m\u001b[1;33m\u001b[0m\u001b[0m\n\u001b[1;32m--> 452\u001b[1;33m         \u001b[0mcheck_is_fitted\u001b[0m\u001b[1;33m(\u001b[0m\u001b[0mself\u001b[0m\u001b[1;33m,\u001b[0m \u001b[1;34m'support_'\u001b[0m\u001b[1;33m)\u001b[0m\u001b[1;33m\u001b[0m\u001b[0m\n\u001b[0m\u001b[0;32m    453\u001b[0m \u001b[1;33m\u001b[0m\u001b[0m\n\u001b[0;32m    454\u001b[0m         \u001b[0mX\u001b[0m \u001b[1;33m=\u001b[0m \u001b[0mcheck_array\u001b[0m\u001b[1;33m(\u001b[0m\u001b[0mX\u001b[0m\u001b[1;33m,\u001b[0m \u001b[0maccept_sparse\u001b[0m\u001b[1;33m=\u001b[0m\u001b[1;34m'csr'\u001b[0m\u001b[1;33m,\u001b[0m \u001b[0mdtype\u001b[0m\u001b[1;33m=\u001b[0m\u001b[0mnp\u001b[0m\u001b[1;33m.\u001b[0m\u001b[0mfloat64\u001b[0m\u001b[1;33m,\u001b[0m \u001b[0morder\u001b[0m\u001b[1;33m=\u001b[0m\u001b[1;34m\"C\"\u001b[0m\u001b[1;33m)\u001b[0m\u001b[1;33m\u001b[0m\u001b[0m\n",
      "\u001b[1;32m/home/spirit/anaconda3/lib/python3.5/site-packages/sklearn/utils/validation.py\u001b[0m in \u001b[0;36mcheck_is_fitted\u001b[1;34m(estimator, attributes, msg, all_or_any)\u001b[0m\n\u001b[0;32m    676\u001b[0m \u001b[1;33m\u001b[0m\u001b[0m\n\u001b[0;32m    677\u001b[0m     \u001b[1;32mif\u001b[0m \u001b[1;32mnot\u001b[0m \u001b[0mall_or_any\u001b[0m\u001b[1;33m(\u001b[0m\u001b[1;33m[\u001b[0m\u001b[0mhasattr\u001b[0m\u001b[1;33m(\u001b[0m\u001b[0mestimator\u001b[0m\u001b[1;33m,\u001b[0m \u001b[0mattr\u001b[0m\u001b[1;33m)\u001b[0m \u001b[1;32mfor\u001b[0m \u001b[0mattr\u001b[0m \u001b[1;32min\u001b[0m \u001b[0mattributes\u001b[0m\u001b[1;33m]\u001b[0m\u001b[1;33m)\u001b[0m\u001b[1;33m:\u001b[0m\u001b[1;33m\u001b[0m\u001b[0m\n\u001b[1;32m--> 678\u001b[1;33m         \u001b[1;32mraise\u001b[0m \u001b[0mNotFittedError\u001b[0m\u001b[1;33m(\u001b[0m\u001b[0mmsg\u001b[0m \u001b[1;33m%\u001b[0m \u001b[1;33m{\u001b[0m\u001b[1;34m'name'\u001b[0m\u001b[1;33m:\u001b[0m \u001b[0mtype\u001b[0m\u001b[1;33m(\u001b[0m\u001b[0mestimator\u001b[0m\u001b[1;33m)\u001b[0m\u001b[1;33m.\u001b[0m\u001b[0m__name__\u001b[0m\u001b[1;33m}\u001b[0m\u001b[1;33m)\u001b[0m\u001b[1;33m\u001b[0m\u001b[0m\n\u001b[0m\u001b[0;32m    679\u001b[0m \u001b[1;33m\u001b[0m\u001b[0m\n\u001b[0;32m    680\u001b[0m \u001b[1;33m\u001b[0m\u001b[0m\n",
      "\u001b[1;31mNotFittedError\u001b[0m: This SVC instance is not fitted yet. Call 'fit' with appropriate arguments before using this method."
     ]
    }
   ],
   "source": [
    "z.predict(data)"
   ]
  },
  {
   "cell_type": "code",
   "execution_count": 13,
   "metadata": {
    "collapsed": false
   },
   "outputs": [
    {
     "data": {
      "text/plain": [
       "0.60526315789473684"
      ]
     },
     "execution_count": 13,
     "metadata": {},
     "output_type": "execute_result"
    }
   ],
   "source": [
    "from sklearn.cross_validation import train_test_split\n",
    "Xtrain, Xtest, ytrain, ytest = train_test_split(data, target, test_size=0.2,\n",
    "                                                random_state=2)\n",
    "clf.fit(Xtrain, ytrain)\n",
    "clf.score(Xtest, ytest)"
   ]
  },
  {
   "cell_type": "code",
   "execution_count": null,
   "metadata": {
    "collapsed": true
   },
   "outputs": [],
   "source": []
  },
  {
   "cell_type": "code",
   "execution_count": null,
   "metadata": {
    "collapsed": true
   },
   "outputs": [],
   "source": []
  },
  {
   "cell_type": "code",
   "execution_count": 11,
   "metadata": {
    "collapsed": true
   },
   "outputs": [],
   "source": [
    "clf = SVC(C=0.1, cache_size=200, class_weight=None, coef0=0.0,\n",
    "   decision_function_shape=None, degree=3, gamma='auto', kernel='rbf',\n",
    "   max_iter=-1, probability=False, random_state=None, shrinking=True,\n",
    "   tol=0.001, verbose=False)"
   ]
  },
  {
   "cell_type": "code",
   "execution_count": 14,
   "metadata": {
    "collapsed": true
   },
   "outputs": [],
   "source": [
    "clf = SVC(C=1.0, cache_size=200, class_weight=None, coef0=0.0,\n",
    "  decision_function_shape=None, degree=3, gamma='auto', kernel='rbf',\n",
    "  max_iter=-1, probability=False, random_state=None, shrinking=True,\n",
    "  tol=0.001, verbose=False)"
   ]
  },
  {
   "cell_type": "code",
   "execution_count": 17,
   "metadata": {
    "collapsed": false
   },
   "outputs": [
    {
     "data": {
      "text/plain": [
       "0.94736842105263153"
      ]
     },
     "execution_count": 17,
     "metadata": {},
     "output_type": "execute_result"
    }
   ],
   "source": [
    "from sklearn.cross_validation import train_test_split\n",
    "Xtrain, Xtest, ytrain, ytest = train_test_split(data, target, test_size=0.2,\n",
    "                                                random_state=2)\n",
    "clf.fit(Xtrain, ytrain)\n",
    "clf.score(Xtest, ytest)"
   ]
  },
  {
   "cell_type": "code",
   "execution_count": null,
   "metadata": {
    "collapsed": true
   },
   "outputs": [],
   "source": []
  },
  {
   "cell_type": "code",
   "execution_count": 16,
   "metadata": {
    "collapsed": true
   },
   "outputs": [],
   "source": [
    "clf = SVC(C=1, cache_size=200, class_weight=None, coef0=0.0,\n",
    "   decision_function_shape=None, degree=3, gamma='auto', kernel='linear',\n",
    "   max_iter=-1, probability=False, random_state=None, shrinking=True,\n",
    "   tol=0.001, verbose=False)"
   ]
  },
  {
   "cell_type": "code",
   "execution_count": 18,
   "metadata": {
    "collapsed": false
   },
   "outputs": [
    {
     "ename": "AttributeError",
     "evalue": "predict_proba is not available when  probability=False",
     "output_type": "error",
     "traceback": [
      "\u001b[1;31m---------------------------------------------------------------------------\u001b[0m",
      "\u001b[1;31mAttributeError\u001b[0m                            Traceback (most recent call last)",
      "\u001b[1;32m<ipython-input-18-725b8c8b7d27>\u001b[0m in \u001b[0;36m<module>\u001b[1;34m()\u001b[0m\n\u001b[1;32m----> 1\u001b[1;33m \u001b[0mclf\u001b[0m\u001b[1;33m.\u001b[0m\u001b[0mpredict_proba\u001b[0m\u001b[1;33m(\u001b[0m\u001b[0mXtest\u001b[0m\u001b[1;33m)\u001b[0m\u001b[1;33m\u001b[0m\u001b[0m\n\u001b[0m",
      "\u001b[1;32m/home/spirit/anaconda3/lib/python3.5/site-packages/sklearn/svm/base.py\u001b[0m in \u001b[0;36mpredict_proba\u001b[1;34m(self)\u001b[0m\n\u001b[0;32m    608\u001b[0m         \u001b[0mdatasets\u001b[0m\u001b[1;33m.\u001b[0m\u001b[1;33m\u001b[0m\u001b[0m\n\u001b[0;32m    609\u001b[0m         \"\"\"\n\u001b[1;32m--> 610\u001b[1;33m         \u001b[0mself\u001b[0m\u001b[1;33m.\u001b[0m\u001b[0m_check_proba\u001b[0m\u001b[1;33m(\u001b[0m\u001b[1;33m)\u001b[0m\u001b[1;33m\u001b[0m\u001b[0m\n\u001b[0m\u001b[0;32m    611\u001b[0m         \u001b[1;32mreturn\u001b[0m \u001b[0mself\u001b[0m\u001b[1;33m.\u001b[0m\u001b[0m_predict_proba\u001b[0m\u001b[1;33m\u001b[0m\u001b[0m\n\u001b[0;32m    612\u001b[0m \u001b[1;33m\u001b[0m\u001b[0m\n",
      "\u001b[1;32m/home/spirit/anaconda3/lib/python3.5/site-packages/sklearn/svm/base.py\u001b[0m in \u001b[0;36m_check_proba\u001b[1;34m(self)\u001b[0m\n\u001b[0;32m    575\u001b[0m     \u001b[1;32mdef\u001b[0m \u001b[0m_check_proba\u001b[0m\u001b[1;33m(\u001b[0m\u001b[0mself\u001b[0m\u001b[1;33m)\u001b[0m\u001b[1;33m:\u001b[0m\u001b[1;33m\u001b[0m\u001b[0m\n\u001b[0;32m    576\u001b[0m         \u001b[1;32mif\u001b[0m \u001b[1;32mnot\u001b[0m \u001b[0mself\u001b[0m\u001b[1;33m.\u001b[0m\u001b[0mprobability\u001b[0m\u001b[1;33m:\u001b[0m\u001b[1;33m\u001b[0m\u001b[0m\n\u001b[1;32m--> 577\u001b[1;33m             raise AttributeError(\"predict_proba is not available when \"\n\u001b[0m\u001b[0;32m    578\u001b[0m                                  \" probability=False\")\n\u001b[0;32m    579\u001b[0m         \u001b[1;32mif\u001b[0m \u001b[0mself\u001b[0m\u001b[1;33m.\u001b[0m\u001b[0m_impl\u001b[0m \u001b[1;32mnot\u001b[0m \u001b[1;32min\u001b[0m \u001b[1;33m(\u001b[0m\u001b[1;34m'c_svc'\u001b[0m\u001b[1;33m,\u001b[0m \u001b[1;34m'nu_svc'\u001b[0m\u001b[1;33m)\u001b[0m\u001b[1;33m:\u001b[0m\u001b[1;33m\u001b[0m\u001b[0m\n",
      "\u001b[1;31mAttributeError\u001b[0m: predict_proba is not available when  probability=False"
     ]
    }
   ],
   "source": [
    "clf.predict_proba(Xtest)"
   ]
  },
  {
   "cell_type": "code",
   "execution_count": 19,
   "metadata": {
    "collapsed": false
   },
   "outputs": [
    {
     "data": {
      "text/plain": [
       "array([], dtype=float64)"
      ]
     },
     "execution_count": 19,
     "metadata": {},
     "output_type": "execute_result"
    }
   ],
   "source": [
    "clf.probA_"
   ]
  },
  {
   "cell_type": "code",
   "execution_count": 20,
   "metadata": {
    "collapsed": false
   },
   "outputs": [
    {
     "ename": "AttributeError",
     "evalue": "predict_proba is not available when  probability=False",
     "output_type": "error",
     "traceback": [
      "\u001b[1;31m---------------------------------------------------------------------------\u001b[0m",
      "\u001b[1;31mAttributeError\u001b[0m                            Traceback (most recent call last)",
      "\u001b[1;32m<ipython-input-20-c6106bf9d7dc>\u001b[0m in \u001b[0;36m<module>\u001b[1;34m()\u001b[0m\n\u001b[1;32m----> 1\u001b[1;33m \u001b[0mclf\u001b[0m\u001b[1;33m.\u001b[0m\u001b[0mpredict_log_proba\u001b[0m\u001b[1;33m(\u001b[0m\u001b[0mXtest\u001b[0m\u001b[1;33m)\u001b[0m\u001b[1;33m\u001b[0m\u001b[0m\n\u001b[0m",
      "\u001b[1;32m/home/spirit/anaconda3/lib/python3.5/site-packages/sklearn/svm/base.py\u001b[0m in \u001b[0;36mpredict_log_proba\u001b[1;34m(self)\u001b[0m\n\u001b[0;32m    647\u001b[0m         \u001b[0mdatasets\u001b[0m\u001b[1;33m.\u001b[0m\u001b[1;33m\u001b[0m\u001b[0m\n\u001b[0;32m    648\u001b[0m         \"\"\"\n\u001b[1;32m--> 649\u001b[1;33m         \u001b[0mself\u001b[0m\u001b[1;33m.\u001b[0m\u001b[0m_check_proba\u001b[0m\u001b[1;33m(\u001b[0m\u001b[1;33m)\u001b[0m\u001b[1;33m\u001b[0m\u001b[0m\n\u001b[0m\u001b[0;32m    650\u001b[0m         \u001b[1;32mreturn\u001b[0m \u001b[0mself\u001b[0m\u001b[1;33m.\u001b[0m\u001b[0m_predict_log_proba\u001b[0m\u001b[1;33m\u001b[0m\u001b[0m\n\u001b[0;32m    651\u001b[0m \u001b[1;33m\u001b[0m\u001b[0m\n",
      "\u001b[1;32m/home/spirit/anaconda3/lib/python3.5/site-packages/sklearn/svm/base.py\u001b[0m in \u001b[0;36m_check_proba\u001b[1;34m(self)\u001b[0m\n\u001b[0;32m    575\u001b[0m     \u001b[1;32mdef\u001b[0m \u001b[0m_check_proba\u001b[0m\u001b[1;33m(\u001b[0m\u001b[0mself\u001b[0m\u001b[1;33m)\u001b[0m\u001b[1;33m:\u001b[0m\u001b[1;33m\u001b[0m\u001b[0m\n\u001b[0;32m    576\u001b[0m         \u001b[1;32mif\u001b[0m \u001b[1;32mnot\u001b[0m \u001b[0mself\u001b[0m\u001b[1;33m.\u001b[0m\u001b[0mprobability\u001b[0m\u001b[1;33m:\u001b[0m\u001b[1;33m\u001b[0m\u001b[0m\n\u001b[1;32m--> 577\u001b[1;33m             raise AttributeError(\"predict_proba is not available when \"\n\u001b[0m\u001b[0;32m    578\u001b[0m                                  \" probability=False\")\n\u001b[0;32m    579\u001b[0m         \u001b[1;32mif\u001b[0m \u001b[0mself\u001b[0m\u001b[1;33m.\u001b[0m\u001b[0m_impl\u001b[0m \u001b[1;32mnot\u001b[0m \u001b[1;32min\u001b[0m \u001b[1;33m(\u001b[0m\u001b[1;34m'c_svc'\u001b[0m\u001b[1;33m,\u001b[0m \u001b[1;34m'nu_svc'\u001b[0m\u001b[1;33m)\u001b[0m\u001b[1;33m:\u001b[0m\u001b[1;33m\u001b[0m\u001b[0m\n",
      "\u001b[1;31mAttributeError\u001b[0m: predict_proba is not available when  probability=False"
     ]
    }
   ],
   "source": [
    "clf.predict_log_proba(Xtest)"
   ]
  },
  {
   "cell_type": "code",
   "execution_count": 21,
   "metadata": {
    "collapsed": false
   },
   "outputs": [
    {
     "name": "stdout",
     "output_type": "stream",
     "text": [
      "[[42  3]\n",
      " [ 3 66]]\n",
      "66 3 3 42 0.95652173913 0.0666666666667\n"
     ]
    }
   ],
   "source": [
    "from sklearn.metrics import confusion_matrix\n",
    "print(confusion_matrix(ytest, clf.predict(Xtest)))\n",
    "TP = np.logical_and(clf.predict(Xtest)==1, ytest==1).sum()\n",
    "FP = np.logical_and(clf.predict(Xtest)==1, ytest==0).sum()\n",
    "FN = np.logical_and(clf.predict(Xtest)==0, ytest==1).sum()\n",
    "TN = np.logical_and(clf.predict(Xtest)==0, ytest==0).sum()\n",
    "print(TP, FP,FN,TN, TP/(TP+FN),FP/(TN+FP))"
   ]
  },
  {
   "cell_type": "code",
   "execution_count": null,
   "metadata": {
    "collapsed": true
   },
   "outputs": [],
   "source": []
  }
 ],
 "metadata": {
  "kernelspec": {
   "display_name": "Python 3",
   "language": "python",
   "name": "python3"
  },
  "language_info": {
   "codemirror_mode": {
    "name": "ipython",
    "version": 3
   },
   "file_extension": ".py",
   "mimetype": "text/x-python",
   "name": "python",
   "nbconvert_exporter": "python",
   "pygments_lexer": "ipython3",
   "version": "3.5.1"
  }
 },
 "nbformat": 4,
 "nbformat_minor": 0
}
